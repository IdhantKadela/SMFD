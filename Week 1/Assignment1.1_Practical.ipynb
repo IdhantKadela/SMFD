{
 "cells": [
  {
   "cell_type": "markdown",
   "id": "462a634e",
   "metadata": {},
   "source": [
    "To solve the problem, we will use dynamic programming approach and keep saving the number of valid paths and iteratively move up."
   ]
  },
  {
   "cell_type": "code",
   "execution_count": 10,
   "id": "abbf16f5",
   "metadata": {},
   "outputs": [],
   "source": [
    "def valid_paths(n):\n",
    "    MOD = 10**9 + 7\n",
    "    # Initialize dp table of dimensions (n+1) x (n+1) with zeros\n",
    "    dp = [[0] * (n+1) for _ in range(n+1)]\n",
    "\n",
    "    # Fill dp table\n",
    "    for x in range(n+1):\n",
    "        for y in range(x+1):  # y <= x to stay on and below diagonal\n",
    "            if x == 0 and y == 0: \n",
    "                dp[x][y] = 1 # Base Case\n",
    "                continue\n",
    "            ways_from_left = dp[x-1][y] if x > 0 else 0\n",
    "            ways_from_down = dp[x][y-1] if y > 0 else 0\n",
    "            dp[x][y] = (ways_from_left + ways_from_down)%MOD\n",
    "    \n",
    "    return dp[n][n]"
   ]
  },
  {
   "cell_type": "markdown",
   "id": "c7b7316f",
   "metadata": {},
   "source": [
    "Solving for n = 1 to n = 100."
   ]
  },
  {
   "cell_type": "code",
   "execution_count": 17,
   "id": "818d6ac3",
   "metadata": {},
   "outputs": [],
   "source": [
    "import pandas as pd\n",
    "n = pd.Series(range(1,101))\n",
    "paths = n.apply(valid_paths)\n",
    "Pn = pd.DataFrame({'n': n, 'valid_paths': paths})\n",
    "# saving the results as a CSV file\n",
    "Pn.to_csv('valid_paths.csv', index=False)"
   ]
  },
  {
   "cell_type": "markdown",
   "id": "f27c925c",
   "metadata": {},
   "source": [
    "## Bonus Part"
   ]
  },
  {
   "cell_type": "markdown",
   "id": "734cf7b7",
   "metadata": {},
   "source": [
    "Total number of paths = Number of ways to choose n right turns (and other n up turns) out of total 2n turns.\n",
    "\n",
    "The total number of all possible paths (with no restrictions) is: $ \\binom{2n}{n} $ \n",
    "\n",
    "However, many of these paths go above the diagonal. The **Catalan number** gives us the count of only those paths that **stay on or below** the diagonal throughout the journey.\n",
    "\n",
    "The $ n^\\text{th} $ Catalan number is defined as:\n",
    "\n",
    "$$\n",
    "C_n = \\frac{1}{n+1} \\binom{2n}{n}\n",
    "$$\n",
    "\n",
    "Applying this formula to the range(1,101)."
   ]
  },
  {
   "cell_type": "code",
   "execution_count": 21,
   "id": "cf1418e8",
   "metadata": {},
   "outputs": [],
   "source": [
    "def factorial(n):\n",
    "    MOD = 10**9 + 7\n",
    "    result = 1\n",
    "    for i in range(2, n + 1):\n",
    "        result = (result * i) % MOD\n",
    "    return result\n",
    "\n",
    "def binomial_coefficient(n, k):\n",
    "    if k > n or k < 0:\n",
    "        return 0\n",
    "    numerator = factorial(n)\n",
    "    denominator = (factorial(k) * factorial(n - k)) % (10**9 + 7)\n",
    "    # Fermat's little theorem: a^(MOD-2) ≡ a^(-1) mod MOD\n",
    "    return (numerator * pow(denominator, 10**9 + 5, 10**9 + 7)) % (10**9 + 7)\n",
    "\n",
    "def catalan_number(n):\n",
    "    if n == 0:\n",
    "        return 1\n",
    "    # Using Fermat's little theorem to compute the inverse\n",
    "    return (binomial_coefficient(2 * n, n)* pow(n + 1, 10**9 + 5, 10**9 + 7)) % (10**9 + 7)"
   ]
  },
  {
   "cell_type": "code",
   "execution_count": 27,
   "id": "f4eb4f5b",
   "metadata": {},
   "outputs": [],
   "source": [
    "paths_formula = n.apply(catalan_number)\n",
    "Cn = pd.DataFrame({'n': n, 'catalan_number': paths_formula})\n",
    "Cn.to_csv('catalan_numbers.csv', index=False)"
   ]
  },
  {
   "cell_type": "code",
   "execution_count": 33,
   "id": "b28e8554",
   "metadata": {},
   "outputs": [
    {
     "data": {
      "text/plain": [
       "True"
      ]
     },
     "execution_count": 33,
     "metadata": {},
     "output_type": "execute_result"
    }
   ],
   "source": [
    "# Check if the number of valid paths equals the Catalan number for each n\n",
    "(Pn['valid_paths'] == Cn['catalan_number']).all()"
   ]
  }
 ],
 "metadata": {
  "kernelspec": {
   "display_name": "Python 3",
   "language": "python",
   "name": "python3"
  },
  "language_info": {
   "codemirror_mode": {
    "name": "ipython",
    "version": 3
   },
   "file_extension": ".py",
   "mimetype": "text/x-python",
   "name": "python",
   "nbconvert_exporter": "python",
   "pygments_lexer": "ipython3",
   "version": "3.12.3"
  }
 },
 "nbformat": 4,
 "nbformat_minor": 5
}
