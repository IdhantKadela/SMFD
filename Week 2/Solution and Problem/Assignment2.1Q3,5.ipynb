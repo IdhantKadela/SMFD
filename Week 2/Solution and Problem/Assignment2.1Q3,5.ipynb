{
 "cells": [
  {
   "cell_type": "markdown",
   "id": "2e55d5c5",
   "metadata": {},
   "source": [
    "# Q3 Cat and Mouse Game"
   ]
  },
  {
   "cell_type": "markdown",
   "id": "8bd39c13",
   "metadata": {},
   "source": [
    "## a) Stationary Distributions"
   ]
  },
  {
   "cell_type": "markdown",
   "id": "2df8a4af",
   "metadata": {},
   "source": [
    "**Stationary Distribution of Cat Chain** :\n",
    " \n",
    " Let $ \\pi_1 = P(X_t = \\text{Room 1}) $ and $ \\pi_2 = P(X_t = \\text{Room 2}) $, then:\n",
    "\n",
    "\n",
    "$\\pi_1 = P(X_{t-1} = \\text{Room 1}) \\cdot P(X_t = \\text{Room 1} \\mid X_{t-1} = \\text{Room 1}) + \\\\\n",
    "    P(X_{t-1} = \\text{Room 2}) \\cdot P(X_t = \\text{Room 1} \\mid X_{t-1} = \\text{Room 2})$\n",
    "\n",
    "\n",
    "$\\pi_2 = P(X_{t-1} = \\text{Room 1}) \\cdot P(X_t = \\text{Room 2} \\mid X_{t-1} = \\text{Room 1}) + \\\\\n",
    "    P(X_{t-1} = \\text{Room 2}) \\cdot P(X_t = \\text{Room 2} \\mid X_{t-1} = \\text{Room 2})$\n",
    "\n",
    "Using the transition probabilities:\n",
    "\n",
    "- $ P(X_t = \\text{Room 1} \\mid X_{t-1} = \\text{Room 1}) = 0.2 $\n",
    "- $ P(X_t = \\text{Room 1} \\mid X_{t-1} = \\text{Room 2}) = 0.8 $\n",
    "- $ P(X_t = \\text{Room 2} \\mid X_{t-1} = \\text{Room 1}) = 0.8 $\n",
    "- $ P(X_t = \\text{Room 2} \\mid X_{t-1} = \\text{Room 2}) = 0.2 $\n",
    "\n",
    "With $ \\pi_1 + \\pi_2 = 1 $, we get:\n",
    "\n",
    "$\n",
    "\\pi_1 = \\pi_1 \\cdot 0.2 + \\pi_2 \\cdot 0.8\n",
    "$ \n",
    "\n",
    "$\n",
    "\\pi_2 = \\pi_1 \\cdot 0.8 + \\pi_2 \\cdot 0.2\n",
    "$\n",
    "\n",
    "Final Stationary Probabilities:\n",
    "\n",
    "- $ \\pi_1 = 0.5 $\n",
    "- $ \\pi_2 = 0.5 $\n"
   ]
  },
  {
   "cell_type": "markdown",
   "id": "e2ba7e0a",
   "metadata": {},
   "source": [
    "**Stationary Distribution of Mouse Chain** :\n",
    "\n",
    "Let $ \\mu_1 = P(Y_t = \\text{Room 1}) $ and $ \\mu_2 = P(Y_t = \\text{Room 2}) $, then:\n",
    "\n",
    "$\n",
    "\\mu_1 = P(Y_{t-1} = \\text{Room 1}) \\cdot P(Y_t = \\text{Room 1} \\mid Y_{t-1} = \\text{Room 1}) + \\\\\n",
    "P(Y_{t-1} = \\text{Room 2}) \\cdot P(Y_t = \\text{Room 1} \\mid Y_{t-1} = \\text{Room 2})\n",
    "$\n",
    "\n",
    "$\n",
    "\\mu_2 = P(Y_{t-1} = \\text{Room 1}) \\cdot P(Y_t = \\text{Room 2} \\mid Y_{t-1} = \\text{Room 1}) + \\\\\n",
    "P(Y_{t-1} = \\text{Room 2}) \\cdot P(Y_t = \\text{Room 2} \\mid Y_{t-1} = \\text{Room 2})\n",
    "$\n",
    "\n",
    "Using the transition probabilities:\n",
    "\n",
    "- $ P(Y_t = \\text{Room 1} \\mid Y_{t-1} = \\text{Room 1}) = 0.7 $\n",
    "- $ P(Y_t = \\text{Room 1} \\mid Y_{t-1} = \\text{Room 2}) = 0.6 $\n",
    "- $ P(Y_t = \\text{Room 2} \\mid Y_{t-1} = \\text{Room 1}) = 0.3 $\n",
    "- $ P(Y_t = \\text{Room 2} \\mid Y_{t-1} = \\text{Room 2}) = 0.4 $\n",
    "\n",
    "With $ \\mu_1 + \\mu_2 = 1 $, we get:\n",
    "\n",
    "$\n",
    "\\mu_1 = \\mu_1 \\cdot 0.7 + \\mu_2 \\cdot 0.6\n",
    "$\n",
    "\n",
    "$\n",
    "\\mu_2 = \\mu_1 \\cdot 0.3 + \\mu_2 \\cdot 0.4\n",
    "$\n",
    "\n",
    "Final Stationary Probabilities:\n",
    "\n",
    "- $ \\mu_1 = \\frac{2}{3} $\n",
    "- $ \\mu_2 = \\frac{1}{3} $\n"
   ]
  },
  {
   "cell_type": "markdown",
   "id": "d11d54e6",
   "metadata": {},
   "source": [
    "## b) Is it a markov chain?"
   ]
  },
  {
   "cell_type": "markdown",
   "id": "aca7e504",
   "metadata": {},
   "source": [
    "**Yes**, the sequence $Z_0, Z_1, Z_2, \\ldots$ **is** a Markov chain.\n",
    "\n",
    "In this case:\n",
    "\n",
    "- The cat and mouse move independently.\n",
    "- Each next position depends only on the **current position**, not on the history.\n",
    "- Hence, the joint transition probability:  \n",
    "$P(Z_{n+1} \\mid Z_n) = P(\\text{Cat}_{n+1} \\mid \\text{Cat}_n) \\cdot P(\\text{Mouse}_{n+1} \\mid \\text{Mouse}_n)$  \n",
    "depends **only on $Z_n$**.\n",
    "\n",
    "Therefore, $\\{Z_n\\}$ satisfies the Markov property and is a **valid Markov chain** with 4 states.\n"
   ]
  },
  {
   "cell_type": "markdown",
   "id": "a41fa842",
   "metadata": {},
   "source": [
    "# Q5 Stock Price Model"
   ]
  },
  {
   "cell_type": "markdown",
   "id": "de24ae23",
   "metadata": {},
   "source": [
    "## a) Is the Stock Price Recurrent?\n",
    "**No**, it is not recurrent.\n",
    "\n",
    "- The state space is **infinite** in both directions (prices can go very high in theory)\n",
    "\n",
    "- Because of the average positive drift, the stock tends to go up over time"
   ]
  },
  {
   "cell_type": "markdown",
   "id": "08eedf22",
   "metadata": {},
   "source": [
    "## b) Does the stationary distribution of the stock price exist?\n",
    "\n",
    "There is **no** stationary distribution because the stock price has a positive drift \\\n",
    "and tends to increase indefinitely over time. This means the process does not settle \\\n",
    "into a long-term equilibrium and does not return to states often enough."
   ]
  },
  {
   "cell_type": "markdown",
   "id": "eec028d7",
   "metadata": {},
   "source": [
    "## c) Does the stock price reach 130 INR befor 1:00 PM?\n",
    "\n",
    "We will use dynamic programming with mpmath for high precision."
   ]
  },
  {
   "cell_type": "code",
   "execution_count": 1,
   "id": "38fa7af7",
   "metadata": {},
   "outputs": [
    {
     "name": "stdout",
     "output_type": "stream",
     "text": [
      "Estimated probability using high-precision DP: 1.069032254e-432\n"
     ]
    }
   ],
   "source": [
    "from mpmath import mp, mpf\n",
    "\n",
    "# Set decimal precision\n",
    "mp.dps = 10\n",
    "\n",
    "tick_size = 0.01\n",
    "start_price = 120.00\n",
    "target_price = 130.00\n",
    "total_steps = 3*60*60//5 \n",
    "\n",
    "prob_up = mpf('0.1')\n",
    "prob_same = mpf('0.85')\n",
    "prob_down = mpf('0.05')\n",
    "\n",
    "# Create DP table p[t][s] where: t is the step number and s is the price index\n",
    "p = [[mpf('0') for _ in range(2 * total_steps + 1)] for _ in range(total_steps + 1)]\n",
    "# Initialize starting price index\n",
    "p[0][total_steps] = mpf('1.0')\n",
    "\n",
    "# Fill DP table\n",
    "for step in range(1, total_steps + 1):\n",
    "    for price in range(2 * total_steps + 1):\n",
    "        if p[step - 1][price] != mpf('0'):\n",
    "            # Non zero probability from previous step will propagate\n",
    "            # to the next step based on the probabilities\n",
    "            p[step][price - 1] += p[step - 1][price] * prob_down\n",
    "            p[step][price]     += p[step - 1][price] * prob_same\n",
    "            p[step][price + 1] += p[step - 1][price] * prob_up\n",
    "\n",
    "# Sum up final probabilities for prices >= target\n",
    "index_shift = int((target_price - start_price) / tick_size)\n",
    "final_probs = p[total_steps][total_steps + index_shift:]\n",
    "prob_hit = sum(final_probs)\n",
    "print(f\"Estimated probability using high-precision DP: {prob_hit}\")"
   ]
  },
  {
   "cell_type": "markdown",
   "id": "30050e9e",
   "metadata": {},
   "source": [
    "We can also use log-space probabilities for precision, but that was found \\\n",
    "to be more computationaly expensive than mpmath."
   ]
  }
 ],
 "metadata": {
  "kernelspec": {
   "display_name": "Python 3",
   "language": "python",
   "name": "python3"
  },
  "language_info": {
   "codemirror_mode": {
    "name": "ipython",
    "version": 3
   },
   "file_extension": ".py",
   "mimetype": "text/x-python",
   "name": "python",
   "nbconvert_exporter": "python",
   "pygments_lexer": "ipython3",
   "version": "3.12.3"
  }
 },
 "nbformat": 4,
 "nbformat_minor": 5
}
